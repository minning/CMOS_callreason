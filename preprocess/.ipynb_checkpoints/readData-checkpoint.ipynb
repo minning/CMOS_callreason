{
 "cells": [
  {
   "cell_type": "code",
   "execution_count": null,
   "metadata": {
    "collapsed": true
   },
   "outputs": [],
   "source": [
    "import pandas as pd\n",
    "import numpy as np"
   ]
  },
  {
   "cell_type": "code",
   "execution_count": null,
   "metadata": {
    "collapsed": true
   },
   "outputs": [],
   "source": []
  },
  {
   "cell_type": "code",
   "execution_count": 2,
   "metadata": {
    "collapsed": true
   },
   "outputs": [],
   "source": [
    "hunan_path = '../data/hunan.xlsx'\n",
    "hunan = pd.read_excel(hunan_path, sep='\\t', encoding='utf-8')"
   ]
  },
  {
   "cell_type": "code",
   "execution_count": 5,
   "metadata": {},
   "outputs": [
    {
     "data": {
      "text/plain": [
       "(625961, 13)"
      ]
     },
     "execution_count": 5,
     "metadata": {},
     "output_type": "execute_result"
    }
   ],
   "source": [
    "hunan.shape"
   ]
  },
  {
   "cell_type": "code",
   "execution_count": 6,
   "metadata": {},
   "outputs": [
    {
     "data": {
      "text/html": [
       "<div>\n",
       "<style>\n",
       "    .dataframe thead tr:only-child th {\n",
       "        text-align: right;\n",
       "    }\n",
       "\n",
       "    .dataframe thead th {\n",
       "        text-align: left;\n",
       "    }\n",
       "\n",
       "    .dataframe tbody tr th {\n",
       "        vertical-align: top;\n",
       "    }\n",
       "</style>\n",
       "<table border=\"1\" class=\"dataframe\">\n",
       "  <thead>\n",
       "    <tr style=\"text-align: right;\">\n",
       "      <th></th>\n",
       "      <th>序号</th>\n",
       "      <th>ID号</th>\n",
       "      <th>转译声道</th>\n",
       "      <th>工单内容</th>\n",
       "      <th>一级分类校验结果</th>\n",
       "      <th>二级分类校验结果</th>\n",
       "      <th>系统给出的业务词</th>\n",
       "      <th>当前行出现的所有业务词</th>\n",
       "      <th>分类标签涉及到的业务词</th>\n",
       "      <th>业务名称</th>\n",
       "      <th>需求关键句</th>\n",
       "      <th>标注员</th>\n",
       "      <th>标注日期</th>\n",
       "    </tr>\n",
       "  </thead>\n",
       "  <tbody>\n",
       "    <tr>\n",
       "      <th>0</th>\n",
       "      <td>1.0</td>\n",
       "      <td>NaN</td>\n",
       "      <td>/data/epc_task/trans/DHXX_hnzx_0_201708110404_...</td>\n",
       "      <td>NaN</td>\n",
       "      <td>NaN</td>\n",
       "      <td>NaN</td>\n",
       "      <td>NaN</td>\n",
       "      <td>NaN</td>\n",
       "      <td>NaN</td>\n",
       "      <td>NaN</td>\n",
       "      <td>NaN</td>\n",
       "      <td>袁静</td>\n",
       "      <td>NaN</td>\n",
       "    </tr>\n",
       "    <tr>\n",
       "      <th>1</th>\n",
       "      <td>NaN</td>\n",
       "      <td>/data/epc_task/trans/DHXX_hnzx_0_201708110404_...</td>\n",
       "      <td>A</td>\n",
       "      <td>您好，请问什么可以帮您？喂，你这里能不能帮我查一下那个那个和包支付密码。</td>\n",
       "      <td>咨询（含查询）</td>\n",
       "      <td>用户资料</td>\n",
       "      <td>NaN</td>\n",
       "      <td>和包</td>\n",
       "      <td>和包</td>\n",
       "      <td>和包</td>\n",
       "      <td>查一下那个那个和包支付密码</td>\n",
       "      <td>NaN</td>\n",
       "      <td>NaN</td>\n",
       "    </tr>\n",
       "    <tr>\n",
       "      <th>2</th>\n",
       "      <td>NaN</td>\n",
       "      <td>NaN</td>\n",
       "      <td>B</td>\n",
       "      <td>嗯？</td>\n",
       "      <td>NaN</td>\n",
       "      <td>NaN</td>\n",
       "      <td>NaN</td>\n",
       "      <td>NaN</td>\n",
       "      <td>NaN</td>\n",
       "      <td>NaN</td>\n",
       "      <td>NaN</td>\n",
       "      <td>NaN</td>\n",
       "      <td>NaN</td>\n",
       "    </tr>\n",
       "    <tr>\n",
       "      <th>3</th>\n",
       "      <td>NaN</td>\n",
       "      <td>NaN</td>\n",
       "      <td>A</td>\n",
       "      <td>噢，抱歉和包支付密码，我们这边查不了的，抱歉。然后你们那边他可能那个他上面不是显示，那个你们...</td>\n",
       "      <td>NaN</td>\n",
       "      <td>NaN</td>\n",
       "      <td>NaN</td>\n",
       "      <td>和包</td>\n",
       "      <td>NaN</td>\n",
       "      <td>NaN</td>\n",
       "      <td>NaN</td>\n",
       "      <td>NaN</td>\n",
       "      <td>NaN</td>\n",
       "    </tr>\n",
       "    <tr>\n",
       "      <th>4</th>\n",
       "      <td>NaN</td>\n",
       "      <td>NaN</td>\n",
       "      <td>B</td>\n",
       "      <td>你好。</td>\n",
       "      <td>NaN</td>\n",
       "      <td>NaN</td>\n",
       "      <td>NaN</td>\n",
       "      <td>NaN</td>\n",
       "      <td>NaN</td>\n",
       "      <td>NaN</td>\n",
       "      <td>NaN</td>\n",
       "      <td>NaN</td>\n",
       "      <td>NaN</td>\n",
       "    </tr>\n",
       "  </tbody>\n",
       "</table>\n",
       "</div>"
      ],
      "text/plain": [
       "    序号                                                ID号  \\\n",
       "0  1.0                                                NaN   \n",
       "1  NaN  /data/epc_task/trans/DHXX_hnzx_0_201708110404_...   \n",
       "2  NaN                                                NaN   \n",
       "3  NaN                                                NaN   \n",
       "4  NaN                                                NaN   \n",
       "\n",
       "                                                转译声道  \\\n",
       "0  /data/epc_task/trans/DHXX_hnzx_0_201708110404_...   \n",
       "1                                                  A   \n",
       "2                                                  B   \n",
       "3                                                  A   \n",
       "4                                                  B   \n",
       "\n",
       "                                                工单内容 一级分类校验结果 二级分类校验结果  \\\n",
       "0                                                NaN      NaN      NaN   \n",
       "1               您好，请问什么可以帮您？喂，你这里能不能帮我查一下那个那个和包支付密码。  咨询（含查询）     用户资料   \n",
       "2                                                 嗯？      NaN      NaN   \n",
       "3  噢，抱歉和包支付密码，我们这边查不了的，抱歉。然后你们那边他可能那个他上面不是显示，那个你们...      NaN      NaN   \n",
       "4                                                你好。      NaN      NaN   \n",
       "\n",
       "  系统给出的业务词 当前行出现的所有业务词 分类标签涉及到的业务词 业务名称          需求关键句  标注员 标注日期  \n",
       "0      NaN         NaN         NaN  NaN            NaN   袁静  NaN  \n",
       "1      NaN          和包          和包   和包  查一下那个那个和包支付密码  NaN  NaN  \n",
       "2      NaN         NaN         NaN  NaN            NaN  NaN  NaN  \n",
       "3      NaN          和包         NaN  NaN            NaN  NaN  NaN  \n",
       "4      NaN         NaN         NaN  NaN            NaN  NaN  NaN  "
      ]
     },
     "execution_count": 6,
     "metadata": {},
     "output_type": "execute_result"
    }
   ],
   "source": [
    "hunan.head()"
   ]
  },
  {
   "cell_type": "code",
   "execution_count": null,
   "metadata": {},
   "outputs": [],
   "source": [
    "for row in range(hunan.shape[0]):\n",
    "    print hunan.iloc[row,:][0]\n",
    "    break"
   ]
  },
  {
   "cell_type": "code",
   "execution_count": null,
   "metadata": {
    "collapsed": true
   },
   "outputs": [],
   "source": []
  },
  {
   "cell_type": "code",
   "execution_count": null,
   "metadata": {
    "collapsed": true
   },
   "outputs": [],
   "source": []
  },
  {
   "cell_type": "code",
   "execution_count": null,
   "metadata": {
    "collapsed": true
   },
   "outputs": [],
   "source": []
  },
  {
   "cell_type": "code",
   "execution_count": null,
   "metadata": {
    "collapsed": true
   },
   "outputs": [],
   "source": []
  },
  {
   "cell_type": "code",
   "execution_count": null,
   "metadata": {
    "collapsed": true
   },
   "outputs": [],
   "source": []
  }
 ],
 "metadata": {
  "kernelspec": {
   "display_name": "Python 2",
   "language": "python",
   "name": "python2"
  },
  "language_info": {
   "codemirror_mode": {
    "name": "ipython",
    "version": 2
   },
   "file_extension": ".py",
   "mimetype": "text/x-python",
   "name": "python",
   "nbconvert_exporter": "python",
   "pygments_lexer": "ipython2",
   "version": "2.7.13"
  }
 },
 "nbformat": 4,
 "nbformat_minor": 2
}
